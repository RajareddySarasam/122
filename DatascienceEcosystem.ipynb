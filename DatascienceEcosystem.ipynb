{
 "cells": [
  {
   "cell_type": "markdown",
   "id": "e3e4956b",
   "metadata": {},
   "source": [
    "# Datascience Tools and Ecosystem"
   ]
  },
  {
   "cell_type": "markdown",
   "id": "e1087c9b",
   "metadata": {},
   "source": [
    "In this notebook, Data Science Tools and Ecosystem are summarized."
   ]
  },
  {
   "cell_type": "markdown",
   "id": "963db311",
   "metadata": {},
   "source": [
    "**objectives:**\n",
    "    1.python \n",
    "    2.R-language\n",
    "    3.SQL\n"
   ]
  },
  {
   "cell_type": "markdown",
   "id": "ff94bf5d",
   "metadata": {},
   "source": [
    "Some of the popular languages that Data Scientists use are:\n",
    "    1.python \n",
    "    2.R-language\n",
    "    3.SQL"
   ]
  },
  {
   "cell_type": "markdown",
   "id": "ee1f1b8a",
   "metadata": {},
   "source": [
    "Some of the commonly used libraries used by Data Scientists include:\n",
    "pandas,numpy,matplotlib,seaborn"
   ]
  },
  {
   "cell_type": "markdown",
   "id": "dd953de6",
   "metadata": {},
   "source": [
    "| Datascience Tools |\n",
    "|:-----------------:|\n",
    "| Jupyter Notebooks |\n",
    "|Zeppelin Notebooks | \n",
    "|     R-Studio      | "
   ]
  },
  {
   "cell_type": "code",
   "execution_count": 3,
   "id": "23f9c0c9",
   "metadata": {},
   "outputs": [
    {
     "name": "stdout",
     "output_type": "stream",
     "text": [
      "7 20\n"
     ]
    }
   ],
   "source": [
    "### Below are a few examples of evaluating arithmetic expressions in Python\n",
    " \n",
    "answer=3+4\n",
    "result=10*2\n",
    "print(answer,result)"
   ]
  },
  {
   "cell_type": "code",
   "execution_count": 4,
   "id": "ebc5f42c",
   "metadata": {},
   "outputs": [
    {
     "data": {
      "text/plain": [
       "17"
      ]
     },
     "execution_count": 4,
     "metadata": {},
     "output_type": "execute_result"
    }
   ],
   "source": [
    "#This a simple arithmetic expression to mutiply then add integers.\n",
    "(3*4)+5"
   ]
  },
  {
   "cell_type": "code",
   "execution_count": 5,
   "id": "5133dab0",
   "metadata": {},
   "outputs": [
    {
     "data": {
      "text/plain": [
       "3.3333333333333335"
      ]
     },
     "execution_count": 5,
     "metadata": {},
     "output_type": "execute_result"
    }
   ],
   "source": [
    "#This will convert 200 minutes to hours by diving by 60\n",
    "hours=200/60\n",
    "hours"
   ]
  },
  {
   "cell_type": "markdown",
   "id": "1bcfe44c",
   "metadata": {},
   "source": [
    "## Author\n",
    "Rajareddy"
   ]
  },
  {
   "cell_type": "code",
   "execution_count": null,
   "id": "f8ed960b",
   "metadata": {},
   "outputs": [],
   "source": []
  }
 ],
 "metadata": {
  "kernelspec": {
   "display_name": "Python 3 (ipykernel)",
   "language": "python",
   "name": "python3"
  },
  "language_info": {
   "codemirror_mode": {
    "name": "ipython",
    "version": 3
   },
   "file_extension": ".py",
   "mimetype": "text/x-python",
   "name": "python",
   "nbconvert_exporter": "python",
   "pygments_lexer": "ipython3",
   "version": "3.11.5"
  }
 },
 "nbformat": 4,
 "nbformat_minor": 5
}
